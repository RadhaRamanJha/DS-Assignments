{
  "nbformat": 4,
  "nbformat_minor": 0,
  "metadata": {
    "colab": {
      "provenance": []
    },
    "kernelspec": {
      "name": "python3",
      "display_name": "Python 3"
    },
    "language_info": {
      "name": "python"
    }
  },
  "cells": [
    {
      "cell_type": "markdown",
      "source": [
        "## Reference :-\n",
        "https://scikit-learn.org/stable/auto_examples/text/plot_document_clustering.html#sphx-glr-auto-examples-text-plot-document-clustering-py"
      ],
      "metadata": {
        "id": "rORKCQej3AMD"
      }
    },
    {
      "cell_type": "markdown",
      "source": [
        "## Loading The the Text Data"
      ],
      "metadata": {
        "id": "GAUlZyNj2NSV"
      }
    },
    {
      "cell_type": "markdown",
      "source": [
        "20news"
      ],
      "metadata": {
        "id": "tUGx4mdenuma"
      }
    },
    {
      "cell_type": "code",
      "execution_count": null,
      "metadata": {
        "id": "OfjbZ0tdeHXo"
      },
      "outputs": [],
      "source": [
        "import numpy as np\n",
        "from sklearn.datasets import fetch_20newsgroups"
      ]
    },
    {
      "cell_type": "code",
      "source": [
        "newsgroups_train = fetch_20newsgroups(subset='train')\n",
        "categories = [\n",
        "    'alt.atheism',\n",
        "    'comp.graphics',\n",
        "    'comp.sys.ibm.pc.hardware',\n",
        "    'comp.sys.mac.hardware',\n",
        "    'misc.forsale',\n",
        "    'rec.autos',\n",
        "    'rec.motorcycles',\n",
        "    'sci.electronics',\n",
        "    'talk.politics.guns',\n",
        "    'talk.politics.mideast',\n",
        "    'talk.religion.misc',\n",
        "]"
      ],
      "metadata": {
        "id": "8MszHuw6elg1"
      },
      "execution_count": null,
      "outputs": []
    },
    {
      "cell_type": "code",
      "source": [
        "datasets = fetch_20newsgroups(\n",
        "    remove = ('headers','footers','quotes'),\n",
        "    subset = 'all',\n",
        "    categories = categories,\n",
        "    shuffle=True,\n",
        "    random_state=42,\n",
        ")\n",
        "\n",
        "labels = datasets.target\n",
        "unique_labels, category_size = np.unique(labels, return_counts=True)\n",
        "true_k = unique_labels.shape[0]\n",
        "print(f\"There are {len(datasets.data)} documents in {true_k} categories\")"
      ],
      "metadata": {
        "colab": {
          "base_uri": "https://localhost:8080/"
        },
        "id": "aXJdfUQjruK4",
        "outputId": "de5987a2-2b1f-4442-de03-bd2f49515b9e"
      },
      "execution_count": null,
      "outputs": [
        {
          "output_type": "stream",
          "name": "stdout",
          "text": [
            "There are 10140 documents in 11 categories\n"
          ]
        }
      ]
    },
    {
      "cell_type": "markdown",
      "source": [
        "## Quantifying the quality of clustering results."
      ],
      "metadata": {
        "id": "ej-opOzm2bne"
      }
    },
    {
      "cell_type": "markdown",
      "source": [
        "## Eventhough Clustering algorithms are unsupervised learning methods. Since we have class labels for this specific dataset, it is possible to use evaluation metrics that leverage this “supervised” ground truth information to quantify the quality of the resulting clusters. Examples of such metrics are the following:\n",
        "\n",
        "1. Homogeneity, which quantifies how much clusters contain only members of a single class;\n",
        "\n",
        "2. Completeness, which quantifies how much members of a given class are assigned to the same clusters;\n",
        "\n",
        "3. V-measure, the harmonic mean of completeness and homogeneity;\n",
        "\n",
        "4. Rand-Index, which measures how frequently pairs of data points are grouped consistently according to the result of the clustering algorithm and the ground truth class assignment;\n",
        "\n",
        "5. Adjusted Rand-Index, a chance-adjusted Rand-Index such that random cluster assignment have an ARI of 0.0 in expectation."
      ],
      "metadata": {
        "id": "Mq7fsJju27ol"
      }
    },
    {
      "cell_type": "code",
      "source": [
        "from collections import defaultdict\n",
        "from time import time\n",
        "\n",
        "from sklearn import metrics\n",
        "\n",
        "evaluations = []        # Empty list to store estimator name and training time\n",
        "evaluations_std = []    # Empty list to store estimator name and std dev of training time\n",
        "\n",
        "\n",
        "def fit_and_evaluate(km, X, name=None, n_runs=5):\n",
        "    name = km.__class__.__name__ if name is None else name\n",
        "\n",
        "    train_times = []\n",
        "    scores = defaultdict(list)\n",
        "    for seed in range(n_runs):\n",
        "        km.set_params(random_state=seed)\n",
        "        t0 = time()\n",
        "        km.fit(X)\n",
        "        train_times.append(time() - t0)\n",
        "        scores[\"Homogeneity\"].append(metrics.homogeneity_score(labels, km.labels_))\n",
        "        scores[\"Completeness\"].append(metrics.completeness_score(labels, km.labels_))\n",
        "        scores[\"V-measure\"].append(metrics.v_measure_score(labels, km.labels_))\n",
        "        scores[\"Adjusted Rand-Index\"].append(\n",
        "            metrics.adjusted_rand_score(labels, km.labels_)\n",
        "        )\n",
        "        scores[\"Silhouette Coefficient\"].append(\n",
        "            metrics.silhouette_score(X, km.labels_, sample_size=2000)\n",
        "        )\n",
        "    train_times = np.asarray(train_times)\n",
        "\n",
        "    print(f\"clustering done in {train_times.mean():.2f} ± {train_times.std():.2f} s \")\n",
        "    evaluation = {\n",
        "        \"estimator\": name,\n",
        "        \"train_time\": train_times.mean(),\n",
        "    }\n",
        "    evaluation_std = {\n",
        "        \"estimator\": name,\n",
        "        \"train_time\": train_times.std(),\n",
        "    }\n",
        "    for score_name, score_values in scores.items():\n",
        "        mean_score, std_score = np.mean(score_values), np.std(score_values)\n",
        "        print(f\"{score_name}: {mean_score:.3f} ± {std_score:.3f}\")\n",
        "        evaluation[score_name] = mean_score\n",
        "        evaluation_std[score_name] = std_score\n",
        "    evaluations.append(evaluation)\n",
        "    evaluations_std.append(evaluation_std)"
      ],
      "metadata": {
        "id": "rpVz5CLG2XsU"
      },
      "execution_count": null,
      "outputs": []
    },
    {
      "cell_type": "markdown",
      "source": [
        "## K-means clustering on text features¶\n",
        "Two feature extraction methods are used:\n",
        "\n",
        "1. TfidfVectorizer :-  maps the most frequent words to features indices and hence compute a word occurrence frequency (sparse) matrix. The word frequencies are then reweighted using the Inverse Document Frequency (IDF) vector collected feature-wise over the corpus.\n",
        "\n",
        "\n",
        "\n",
        "## Feature Extraction using TfidfVectorizer¶"
      ],
      "metadata": {
        "id": "1OivCbFRPCN1"
      }
    },
    {
      "cell_type": "code",
      "source": [
        "from sklearn.feature_extraction.text import TfidfVectorizer\n",
        "\n",
        "vectorizer = TfidfVectorizer(\n",
        "    max_df=0.5,\n",
        "    min_df=5,\n",
        "    stop_words=\"english\",\n",
        ")\n",
        "t0 = time()\n",
        "X_tfidf = vectorizer.fit_transform(datasets.data)\n",
        "\n",
        "print(f\"vectorization done in {time() - t0:.3f} s\")\n",
        "print(f\"n_samples: {X_tfidf.shape[0]}, n_features: {X_tfidf.shape[1]}\")"
      ],
      "metadata": {
        "colab": {
          "base_uri": "https://localhost:8080/"
        },
        "id": "6K07VM-vPBTG",
        "outputId": "eb218d8c-c607-4904-8cac-77dca5238d44"
      },
      "execution_count": null,
      "outputs": [
        {
          "output_type": "stream",
          "name": "stdout",
          "text": [
            "vectorization done in 2.532 s\n",
            "n_samples: 10140, n_features: 14779\n"
          ]
        }
      ]
    },
    {
      "cell_type": "markdown",
      "source": [
        "## After ignoring terms that appear in more than 50% of the documents (as set by max_df=0.5) and terms that are not present in at least 5 documents (set by min_df=5), the resulting number of unique terms n_features is around 14779. We can additionally quantify the sparsity of the X_tfidf matrix as the fraction of non-zero entries divided by the total number of elements."
      ],
      "metadata": {
        "id": "X-Wkh-hIQ8IL"
      }
    },
    {
      "cell_type": "code",
      "source": [
        "print(f\"There are {X_tfidf.nnz / np.prod(X_tfidf.shape):.3f}% entries in documents which are non-zero\")\n"
      ],
      "metadata": {
        "colab": {
          "base_uri": "https://localhost:8080/"
        },
        "id": "IoPcCPh0Q7ym",
        "outputId": "49462878-c411-46ad-baf4-12a97ca92307"
      },
      "execution_count": null,
      "outputs": [
        {
          "output_type": "stream",
          "name": "stdout",
          "text": [
            "There are 0.003% entries in documents which are non-zero\n"
          ]
        }
      ]
    },
    {
      "cell_type": "markdown",
      "source": [
        "## Clustering sparse data with k-means¶\n",
        "- both KMeans and MiniBatchKMeans optimize a non-convex objective function\n",
        "- their clustering is not guaranteed to be optimal for a given random init.\n",
        "- On sparse high-dimensional data e.g. text vectorized using the Bag of Words approach,\n",
        "- k-means can initialize centroids on extremely isolated data points. Those data points can stay their own centroids all along.\n",
        "\n",
        "\n",
        "e.g :-\n",
        "\n"
      ],
      "metadata": {
        "id": "tRTYDvVKnQAN"
      }
    },
    {
      "cell_type": "code",
      "source": [
        "from sklearn.cluster import KMeans\n",
        "\n",
        "for seed in range(5):\n",
        "    kmeans = KMeans(\n",
        "        n_clusters=true_k,\n",
        "        max_iter=100,\n",
        "        n_init=1,\n",
        "        random_state=seed,\n",
        "    ).fit(X_tfidf)\n",
        "    cluster_ids, cluster_sizes = np.unique(kmeans.labels_, return_counts=True)\n",
        "    print(f\"Number of elements assigned to each cluster: {cluster_sizes}\")\n",
        "print()\n",
        "print(\n",
        "    \"True number of documents in each category according to the class labels: \"\n",
        "    f\"{category_size}\"\n",
        ")"
      ],
      "metadata": {
        "colab": {
          "base_uri": "https://localhost:8080/"
        },
        "id": "RmBX5u1NWawA",
        "outputId": "af57628a-3b4a-4b0a-f0a0-c4bd6654f567"
      },
      "execution_count": null,
      "outputs": [
        {
          "output_type": "stream",
          "name": "stdout",
          "text": [
            "Number of elements assigned to each cluster: [ 425  522  970  180 3200  328 1316  288 1965  353  593]\n",
            "Number of elements assigned to each cluster: [    1     1     1     1     1     2     3     1     1     1 10127]\n",
            "Number of elements assigned to each cluster: [    1     1     1     1 10125     4     1     3     1     1     1]\n",
            "Number of elements assigned to each cluster: [ 411 1430  178 3675  302 1262  383  415  579 1031  474]\n",
            "Number of elements assigned to each cluster: [ 282 3974  794  876  823  573  501  643 1212   78  384]\n",
            "\n",
            "True number of documents in each category according to the class labels: [799 973 982 963 975 990 996 984 910 940 628]\n"
          ]
        }
      ]
    },
    {
      "cell_type": "markdown",
      "source": [
        "## To avoid this problem, one possibility is to increase the number of runs with independent random initiations n_init. In such case the clustering with the best inertia (objective function of k-means) is chosen."
      ],
      "metadata": {
        "id": "eVq8WLaz7jWz"
      }
    },
    {
      "cell_type": "code",
      "source": [
        "kmeans = KMeans(\n",
        "    n_clusters=true_k,\n",
        "    max_iter=100,\n",
        "    n_init=5,\n",
        ")\n",
        "\n",
        "fit_and_evaluate(kmeans, X_tfidf, name=\"KMeans\\non tf-idf vectors\")"
      ],
      "metadata": {
        "colab": {
          "base_uri": "https://localhost:8080/"
        },
        "id": "1OWPIRlq60gn",
        "outputId": "96270c7d-7c9e-48d4-a071-b9e4439bcc01"
      },
      "execution_count": null,
      "outputs": [
        {
          "output_type": "stream",
          "name": "stdout",
          "text": [
            "clustering done in 3.25 ± 1.64 s \n",
            "Homogeneity: 0.242 ± 0.110\n",
            "Completeness: 0.346 ± 0.032\n",
            "V-measure: 0.269 ± 0.113\n",
            "Adjusted Rand-Index: 0.087 ± 0.044\n",
            "Silhouette Coefficient: 0.006 ± 0.002\n"
          ]
        }
      ]
    },
    {
      "cell_type": "markdown",
      "source": [
        "- All the clustering evaluation metrics have a maximum value of 1.0 (for a perfect clustering result).\n",
        "\n",
        "- Higher values are better. Values of the Adjusted Rand-Index close to 0.0 correspond to a random labeling.\n",
        "\n",
        "- Notice from the scores above that the cluster assignment is indeed well above chance level, but the overall quality can certainly improve.\n",
        "\n",
        "- Keep in mind that the class labels may not reflect accurately the document topics and therefore metrics that use labels are not necessarily the best to evaluate the quality of our clustering pipeline"
      ],
      "metadata": {
        "id": "YELaKDsR88Dn"
      }
    },
    {
      "cell_type": "markdown",
      "source": [
        "## Performing dimensionality reduction using LSA¶\n",
        "- A n_init=1 can still be used as long as the dimension of the vectorized space is reduced first to make k-means more stable.\n",
        "- For such purpose we use TruncatedSVD, which works on term count/tf-idf matrices.\n",
        "\n",
        "- SVD results are not normalized, we redo the normalization to improve the KMeans result.\n",
        "\n",
        "- Using SVD to reduce the dimensionality of TF-IDF document vectors is often known as latent semantic analysis (LSA) in the information retrieval and text mining literature."
      ],
      "metadata": {
        "id": "FWNkXdppAugv"
      }
    },
    {
      "cell_type": "code",
      "source": [
        "from sklearn.decomposition import TruncatedSVD\n",
        "from sklearn.pipeline import make_pipeline\n",
        "from sklearn.preprocessing import Normalizer\n",
        "\n",
        "lsa = make_pipeline(TruncatedSVD(n_components=100), Normalizer(copy=False))\n",
        "t0 = time()\n",
        "X_lsa = lsa.fit_transform(X_tfidf)\n",
        "explained_variance = lsa[0].explained_variance_ratio_.sum()\n",
        "\n",
        "print(f\"LSA done in {time() - t0:.3f} s\")\n",
        "print(f\"Explained variance of the SVD step: {explained_variance * 100:.1f}%\")"
      ],
      "metadata": {
        "colab": {
          "base_uri": "https://localhost:8080/"
        },
        "id": "P3rdm-eK9RXC",
        "outputId": "2c005c68-4b04-4152-9a3a-1fee0becf0be"
      },
      "execution_count": null,
      "outputs": [
        {
          "output_type": "stream",
          "name": "stdout",
          "text": [
            "LSA done in 2.507 s\n",
            "Explained variance of the SVD step: 12.6%\n"
          ]
        }
      ]
    },
    {
      "cell_type": "markdown",
      "source": [
        "## Using a single initialization means the processing time will be reduced for both KMeans and MiniBatchKMeans."
      ],
      "metadata": {
        "id": "iXtY1H19CFRM"
      }
    },
    {
      "cell_type": "code",
      "source": [
        "kmeans = KMeans(\n",
        "    n_clusters=true_k,\n",
        "    max_iter=100,\n",
        "    n_init=1,\n",
        ")\n",
        "\n",
        "fit_and_evaluate(kmeans, X_lsa, name=\"KMeans\\nwith LSA on tf-idf vectors\")"
      ],
      "metadata": {
        "colab": {
          "base_uri": "https://localhost:8080/"
        },
        "id": "XejuI2U4CJGV",
        "outputId": "3b592bcf-aa32-4b23-dfe4-f854237dc5b4"
      },
      "execution_count": null,
      "outputs": [
        {
          "output_type": "stream",
          "name": "stdout",
          "text": [
            "clustering done in 0.56 ± 0.50 s \n",
            "Homogeneity: 0.340 ± 0.010\n",
            "Completeness: 0.394 ± 0.013\n",
            "V-measure: 0.365 ± 0.009\n",
            "Adjusted Rand-Index: 0.179 ± 0.014\n",
            "Silhouette Coefficient: 0.046 ± 0.003\n"
          ]
        }
      ]
    },
    {
      "cell_type": "markdown",
      "source": [
        "- Clustering on the LSA representation of the document is significantly faster (both because of n_init=1 and because the dimensionality of the LSA feature space is much smaller).\n",
        "\n",
        "- Furthermore, all the clustering evaluation metrics have improved. We repeat the experiment with MiniBatchKMeans."
      ],
      "metadata": {
        "id": "kH0h5b1YC8Lq"
      }
    },
    {
      "cell_type": "code",
      "source": [
        "from sklearn.cluster import MiniBatchKMeans\n",
        "\n",
        "minibatch_kmeans = MiniBatchKMeans(\n",
        "    n_clusters=true_k,\n",
        "    n_init=1,\n",
        "    init_size=1000,\n",
        "    batch_size=1000,\n",
        ")\n",
        "\n",
        "fit_and_evaluate(\n",
        "    minibatch_kmeans,\n",
        "    X_lsa,\n",
        "    name=\"MiniBatchKMeans\\nwith LSA on tf-idf vectors\",\n",
        ")"
      ],
      "metadata": {
        "colab": {
          "base_uri": "https://localhost:8080/"
        },
        "id": "VYkK6OiWDGPL",
        "outputId": "81558f58-761e-4c25-d6fa-959fbfee4ae7"
      },
      "execution_count": null,
      "outputs": [
        {
          "output_type": "stream",
          "name": "stdout",
          "text": [
            "clustering done in 0.19 ± 0.02 s \n",
            "Homogeneity: 0.281 ± 0.057\n",
            "Completeness: 0.346 ± 0.041\n",
            "V-measure: 0.308 ± 0.046\n",
            "Adjusted Rand-Index: 0.160 ± 0.054\n",
            "Silhouette Coefficient: 0.038 ± 0.005\n"
          ]
        }
      ]
    },
    {
      "cell_type": "markdown",
      "source": [
        "## Top terms per cluster¶\n",
        "- TfidfVectorizer can be inverted we can identify the cluster centers, which provide an intuition of the most influential words for each cluster."
      ],
      "metadata": {
        "id": "CY1njMdEJ8cj"
      }
    },
    {
      "cell_type": "code",
      "source": [
        "original_space_centroids = lsa[0].inverse_transform(kmeans.cluster_centers_)\n",
        "order_centroids = original_space_centroids.argsort()[:, ::-1]\n",
        "terms = vectorizer.get_feature_names_out()\n",
        "\n",
        "for i in range(true_k):\n",
        "    print(f\"Cluster {i}: \", end=\"\")\n",
        "    for ind in order_centroids[i, :10]:\n",
        "        print(f\"{terms[ind]} \", end=\"\")\n",
        "    print()"
      ],
      "metadata": {
        "colab": {
          "base_uri": "https://localhost:8080/"
        },
        "id": "dgwRW35FKr6e",
        "outputId": "5400808d-4697-4d41-f5c0-490448e1c221"
      },
      "execution_count": null,
      "outputs": [
        {
          "output_type": "stream",
          "name": "stdout",
          "text": [
            "Cluster 0: card monitor video apple bus bit mac board ram memory \n",
            "Cluster 1: people god don israel say think gun jews said just \n",
            "Cluster 2: car bike engine cars just like new good miles don \n",
            "Cluster 3: cheers kent jesus sorry religion time life christian book don \n",
            "Cluster 4: just don like think use ve good know com edu \n",
            "Cluster 5: modem port serial ports fax mac data pc software use \n",
            "Cluster 6: 00 50 sale 10 20 shipping 1st price interested new \n",
            "Cluster 7: thanks does know graphics looking advance program help image mail \n",
            "Cluster 8: fbi koresh batf compound did children government gas evidence bd \n",
            "Cluster 9: drive scsi hard disk drives ide controller floppy cd thanks \n",
            "Cluster 10: sale offer shipping condition asking new email price sell best \n"
          ]
        }
      ]
    },
    {
      "cell_type": "markdown",
      "source": [
        "## HashingVectorizer¶\n",
        "- An alternative vectorization can be done using a HashingVectorizer instance, which does not provide IDF weighting as this is a stateless model (the fit method does nothing).\n",
        "- When IDF weighting is needed it can be added by pipelining the HashingVectorizer output to a TfidfTransformer instance.\n",
        "- In this case we also add LSA to the pipeline to reduce the dimension and sparcity of the hashed vector space."
      ],
      "metadata": {
        "id": "Mb58EEOKN3if"
      }
    },
    {
      "cell_type": "code",
      "source": [
        "from sklearn.feature_extraction.text import HashingVectorizer, TfidfTransformer\n",
        "\n",
        "lsa_vectorizer = make_pipeline(\n",
        "    HashingVectorizer(stop_words=\"english\", n_features=1_000_000),\n",
        "    TfidfTransformer(),\n",
        "    TruncatedSVD(n_components=100, random_state=0),\n",
        "    Normalizer(copy=False),\n",
        ")\n",
        "\n",
        "t0 = time()\n",
        "X_hashed_lsa = lsa_vectorizer.fit_transform(datasets.data)\n",
        "print(f\"vectorization done in {time() - t0:.3f} s\")"
      ],
      "metadata": {
        "colab": {
          "base_uri": "https://localhost:8080/"
        },
        "id": "avWkFGVcLtNp",
        "outputId": "b0810591-f41b-49f6-ca05-7ca125104625"
      },
      "execution_count": null,
      "outputs": [
        {
          "output_type": "stream",
          "name": "stdout",
          "text": [
            "vectorization done in 77.084 s\n"
          ]
        }
      ]
    },
    {
      "cell_type": "markdown",
      "source": [
        "## The LSA step takes a relatively long time to fit, especially with hashed vectors.\n",
        "- The reason is that a hashed space is typically large (set to n_features=1_000_000 in this example).\n",
        "- One can try lowering the number of features at the expense of having a larger fraction of features with hash collisions as shown in the example notebook FeatureHasher and DictVectorizer Comparison.\n",
        "\n",
        "## We now fit and evaluate the kmeans and minibatch_kmeans instances on this hashed-lsa-reduced data:"
      ],
      "metadata": {
        "id": "rZWBR3bKRxw4"
      }
    },
    {
      "cell_type": "code",
      "source": [
        "fit_and_evaluate(kmeans, X_hashed_lsa, name=\"KMeans\\nwith LSA on hashed vectors\")"
      ],
      "metadata": {
        "colab": {
          "base_uri": "https://localhost:8080/"
        },
        "id": "v1yCFzoeSinA",
        "outputId": "5cbf15d3-252d-428b-e7bb-5fcb782f0cd4"
      },
      "execution_count": null,
      "outputs": [
        {
          "output_type": "stream",
          "name": "stdout",
          "text": [
            "clustering done in 0.65 ± 0.50 s \n",
            "Homogeneity: 0.342 ± 0.023\n",
            "Completeness: 0.384 ± 0.029\n",
            "V-measure: 0.362 ± 0.024\n",
            "Adjusted Rand-Index: 0.203 ± 0.022\n",
            "Silhouette Coefficient: 0.044 ± 0.005\n"
          ]
        }
      ]
    },
    {
      "cell_type": "code",
      "source": [
        "fit_and_evaluate(\n",
        "    minibatch_kmeans,\n",
        "    X_hashed_lsa,\n",
        "    name=\"MiniBatchKMeans\\nwith LSA on hashed vectors\",\n",
        ")"
      ],
      "metadata": {
        "colab": {
          "base_uri": "https://localhost:8080/"
        },
        "id": "AILseiNJU4wY",
        "outputId": "dd13f18f-80fd-4e0c-984c-402e55a54d45"
      },
      "execution_count": null,
      "outputs": [
        {
          "output_type": "stream",
          "name": "stdout",
          "text": [
            "clustering done in 0.19 ± 0.01 s \n",
            "Homogeneity: 0.298 ± 0.053\n",
            "Completeness: 0.347 ± 0.036\n",
            "V-measure: 0.319 ± 0.042\n",
            "Adjusted Rand-Index: 0.174 ± 0.058\n",
            "Silhouette Coefficient: 0.031 ± 0.018\n"
          ]
        }
      ]
    },
    {
      "cell_type": "markdown",
      "source": [
        "- Both methods lead to good results that are similar to running the same models on the traditional LSA vectors (without hashing)\n",
        "\n",
        "## Clustering evaluation summary"
      ],
      "metadata": {
        "id": "-AKhcnezVh_r"
      }
    },
    {
      "cell_type": "code",
      "source": [
        "import matplotlib.pyplot as plt\n",
        "import pandas as pd\n",
        "\n",
        "fig, (ax0, ax1) = plt.subplots(ncols=2, figsize=(16, 6), sharey=True)\n",
        "\n",
        "df = pd.DataFrame(evaluations[::-1]).set_index(\"estimator\")\n",
        "df_std = pd.DataFrame(evaluations_std[::-1]).set_index(\"estimator\")\n",
        "\n",
        "df.drop(\n",
        "    [\"train_time\"],\n",
        "    axis=\"columns\",\n",
        ").plot.barh(ax=ax0, xerr=df_std)\n",
        "ax0.set_xlabel(\"Clustering scores\")\n",
        "ax0.set_ylabel(\"\")\n",
        "\n",
        "df[\"train_time\"].plot.barh(ax=ax1, xerr=df_std[\"train_time\"])\n",
        "ax1.set_xlabel(\"Clustering time (s)\")\n",
        "plt.tight_layout()"
      ],
      "metadata": {
        "colab": {
          "base_uri": "https://localhost:8080/",
          "height": 490
        },
        "id": "vujh4-s4Vktf",
        "outputId": "10cf7f1b-1675-4851-b08b-8448ac17145c"
      },
      "execution_count": null,
      "outputs": [
        {
          "output_type": "display_data",
          "data": {
            "text/plain": [
              "<Figure size 1600x600 with 2 Axes>"
            ],
            "image/png": "[encoded data removed]"
          },
          "metadata": {}
        }
      ]
    },
    {
      "cell_type": "markdown",
      "source": [
        "## KMeans and MiniBatchKMeans suffer from the phenomenon called the Curse of Dimensionality for high dimensional datasets such as text data.\n",
        "- That is the reason why the overall scores improve when using LSA. Using LSA reduced data also improves the stability and requires lower clustering time, though keep in mind that the LSA step itself takes a long time, especially with hashed vectors.\n",
        "\n",
        "## The Silhouette Coefficient is defined between 0 and 1.\n",
        "-  In all cases we obtain values close to 0 (even if they improve a bit after using LSA) because its definition requires measuring distances, in contrast with other evaluation metrics such as the V-measure and the Adjusted Rand Index which are only based on cluster assignments rather than distances.\n",
        "- Notice that strictly speaking, one should not compare the Silhouette Coefficient between spaces of different dimension, due to the different notions of distance they imply.\n",
        "\n",
        "## The homogeneity, completeness and hence v-measure metrics do not yield a baseline with regards to random labeling:\n",
        "- this means that depending on the number of samples, clusters and ground truth classes, a completely random labeling will not always yield the same values. In particular random labeling won’t yield zero scores, especially when the number of clusters is large. This problem can safely be ignored when the number of samples is more than a thousand and the number of clusters is less than 10, which is the case of the present example. For smaller sample sizes or larger number of clusters it is safer to use an adjusted index such as the Adjusted Rand Index (ARI). See the example Adjustment for chance in clustering performance evaluation for a demo on the effect of random labeling.\n",
        "\n",
        "## The size of the error bars show that MiniBatchKMeans is less stable than KMeans for this relatively small dataset. It is more interesting to use when the number of samples is much bigger, but it can come at the expense of a small degradation in clustering quality compared to the traditional k-means algorithm."
      ],
      "metadata": {
        "id": "o2eovx7WXirx"
      }
    }
  ]
}