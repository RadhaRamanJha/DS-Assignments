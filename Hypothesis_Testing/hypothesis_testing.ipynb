{
 "cells": [
  {
   "cell_type": "code",
   "execution_count": 1,
   "id": "9f7f45a6",
   "metadata": {},
   "outputs": [],
   "source": [
    "import pandas as pd\n",
    "import numpy as np\n",
    "from scipy import stats"
   ]
  },
  {
   "cell_type": "markdown",
   "id": "e0ffd673",
   "metadata": {},
   "source": [
    "## Q1. Null and Alternate Hypothesis for the analysis\n",
    "+ Alternate Hypothesis :- There is significant difference in diameter of Unit A and Unit B\n",
    "+ Null Hypothesis :- There is no Significant difference in diameter of Unit A and Unit B "
   ]
  },
  {
   "cell_type": "code",
   "execution_count": 2,
   "id": "51960f0e",
   "metadata": {},
   "outputs": [],
   "source": [
    "df = pd.read_csv(\"Cutlets.csv\")"
   ]
  },
  {
   "cell_type": "code",
   "execution_count": 3,
   "id": "5e6e4c94",
   "metadata": {},
   "outputs": [
    {
     "name": "stdout",
     "output_type": "stream",
     "text": [
      "    Unit A  Unit B\n",
      "0   6.8090  6.7703\n",
      "1   6.4376  7.5093\n",
      "2   6.9157  6.7300\n",
      "3   7.3012  6.7878\n",
      "4   7.4488  7.1522\n",
      "5   7.3871  6.8110\n",
      "6   6.8755  7.2212\n",
      "7   7.0621  6.6606\n",
      "8   6.6840  7.2402\n",
      "9   6.8236  7.0503\n",
      "10  7.3930  6.8810\n",
      "11  7.5169  7.4059\n",
      "12  6.9246  6.7652\n",
      "13  6.9256  6.0380\n",
      "14  6.5797  7.1581\n",
      "15  6.8394  7.0240\n",
      "16  6.5970  6.6672\n",
      "17  7.2705  7.4314\n",
      "18  7.2828  7.3070\n",
      "19  7.3495  6.7478\n",
      "20  6.9438  6.8889\n",
      "21  7.1560  7.4220\n",
      "22  6.5341  6.5217\n",
      "23  7.2854  7.1688\n",
      "24  6.9952  6.7594\n",
      "25  6.8568  6.9399\n",
      "26  7.2163  7.0133\n",
      "27  6.6801  6.9182\n",
      "28  6.9431  6.3346\n",
      "29  7.0852  7.5459\n",
      "30  6.7794  7.0992\n",
      "31  7.2783  7.1180\n",
      "32  7.1561  6.6965\n",
      "33  7.3943  6.5780\n",
      "34  6.9405  7.3875\n"
     ]
    }
   ],
   "source": [
    "print(df)"
   ]
  },
  {
   "cell_type": "markdown",
   "id": "d4e9bec9",
   "metadata": {},
   "source": [
    "## From the data it seems that we can perform a two-sample t-test to determine if there's a significant difference in the diameter of the cutlets between Unit A and Unit B."
   ]
  },
  {
   "cell_type": "markdown",
   "id": "ea35a674",
   "metadata": {},
   "source": [
    "+ Assumptions :- \n",
    "1. Normality: The data in each group are approximately normally distributed.\n",
    "+ Will use Shapiro-Wilk test to check validity of this assumption\n",
    "2. Homogeneity of Variances: The variances of the two groups should be approximately equal. \n",
    "+ Will use a Levene's test to check validity of this assumption"
   ]
  },
  {
   "cell_type": "markdown",
   "id": "5d93cf1d",
   "metadata": {},
   "source": [
    "## Shapiro-Wilk test to check normality"
   ]
  },
  {
   "cell_type": "code",
   "execution_count": 4,
   "id": "8cf8ba91",
   "metadata": {},
   "outputs": [],
   "source": [
    "from scipy.stats import shapiro"
   ]
  },
  {
   "cell_type": "code",
   "execution_count": 5,
   "id": "93509743",
   "metadata": {},
   "outputs": [
    {
     "name": "stdout",
     "output_type": "stream",
     "text": [
      "stat = 0.965, p = 0.320\n"
     ]
    }
   ],
   "source": [
    "stat,p = shapiro(df['Unit A'])\n",
    "print(\"stat = %.3f, p = %.3f\"%(stat,p) )"
   ]
  },
  {
   "cell_type": "code",
   "execution_count": 6,
   "id": "fa1d6727",
   "metadata": {},
   "outputs": [
    {
     "name": "stdout",
     "output_type": "stream",
     "text": [
      "stat = 0.973, p = 0.523\n"
     ]
    }
   ],
   "source": [
    "stat,p = shapiro(df['Unit B'])\n",
    "print(\"stat = %.3f, p = %.3f\"%(stat,p))"
   ]
  },
  {
   "cell_type": "markdown",
   "id": "7577b615",
   "metadata": {},
   "source": [
    "## Since both p-values (0.320 for Unit A and 0.523 for Unit B) are greater than the typical significance level of 0.05, we do not have enough evidence to reject the null hypothesis of normality. This suggests that we can proceed with the assumption of normality for our data."
   ]
  },
  {
   "cell_type": "markdown",
   "id": "57cff02d",
   "metadata": {},
   "source": [
    "+ Now, we can move on to checking the homogeneity of variances using Levene's test. This test assesses whether the variances of the two groups are approximately equal."
   ]
  },
  {
   "cell_type": "code",
   "execution_count": 7,
   "id": "293f31bf",
   "metadata": {},
   "outputs": [
    {
     "name": "stdout",
     "output_type": "stream",
     "text": [
      "statistic = 0.665,p-value = 0.418\n"
     ]
    }
   ],
   "source": [
    "# Levene's test for homogenity of variance\n",
    "statistic, pvalue = stats.levene(df['Unit A'],df['Unit B'])\n",
    "print(\"statistic = %.3f,p-value = %.3f\"%(statistic, pvalue))"
   ]
  },
  {
   "cell_type": "markdown",
   "id": "46bed313",
   "metadata": {},
   "source": [
    "+ The Levene's test for homogeneity of variances gives a p-value of 0.418, which is greater than 0.05. This suggests that we do not have enough evidence to reject the null hypothesis of equal variances. Therefore, we can proceed with the assumption of equal variances.\n",
    "\n",
    "## Given that the assumptions of normality and equal variances hold, we can confidently use a two-sample t-test to compare the mean diameter of cutlets between Unit A and Unit B."
   ]
  },
  {
   "cell_type": "code",
   "execution_count": 8,
   "id": "43c38830",
   "metadata": {},
   "outputs": [
    {
     "name": "stdout",
     "output_type": "stream",
     "text": [
      "t-statistics = 0.723,pvalue = 0.472\n"
     ]
    }
   ],
   "source": [
    "t_statistics,p_value = stats.ttest_ind(df['Unit A'],df['Unit B'])\n",
    "print(\"t-statistics = %.3f,pvalue = %.3f\"%(t_statistics,p_value))"
   ]
  },
  {
   "cell_type": "markdown",
   "id": "847bb2be",
   "metadata": {},
   "source": [
    "+ The two-sample t-test yields a t-statistic of approximately 0.723 and a p-value of 0.472. Since the p-value is greater than the significance level of 0.05, we do not have enough evidence to reject the null hypothesis.\n",
    "\n",
    "## Therefore, based on the data, we do not find a significant difference in the mean diameter of cutlets between Unit A and Unit B at the 5% significance level."
   ]
  },
  {
   "cell_type": "markdown",
   "id": "791b4454",
   "metadata": {},
   "source": [
    "## Q2. "
   ]
  },
  {
   "cell_type": "markdown",
   "id": "85b1afc6",
   "metadata": {},
   "source": [
    "## Null Hypothesis :- \n",
    "    + There is no significant difference between Turn around Time of all the laboratries. \n",
    "## Alternate Hypothesis :- \n",
    "    + There is significant difference between Turn around Time of all the laboratries."
   ]
  },
  {
   "cell_type": "code",
   "execution_count": 9,
   "id": "3f7fe483",
   "metadata": {},
   "outputs": [],
   "source": [
    "df2 = pd.read_csv('LabTAT.csv')"
   ]
  },
  {
   "cell_type": "code",
   "execution_count": 10,
   "id": "19ec1850",
   "metadata": {},
   "outputs": [
    {
     "data": {
      "text/html": [
       "<div>\n",
       "<style scoped>\n",
       "    .dataframe tbody tr th:only-of-type {\n",
       "        vertical-align: middle;\n",
       "    }\n",
       "\n",
       "    .dataframe tbody tr th {\n",
       "        vertical-align: top;\n",
       "    }\n",
       "\n",
       "    .dataframe thead th {\n",
       "        text-align: right;\n",
       "    }\n",
       "</style>\n",
       "<table border=\"1\" class=\"dataframe\">\n",
       "  <thead>\n",
       "    <tr style=\"text-align: right;\">\n",
       "      <th></th>\n",
       "      <th>Laboratory 1</th>\n",
       "      <th>Laboratory 2</th>\n",
       "      <th>Laboratory 3</th>\n",
       "      <th>Laboratory 4</th>\n",
       "    </tr>\n",
       "  </thead>\n",
       "  <tbody>\n",
       "    <tr>\n",
       "      <th>0</th>\n",
       "      <td>185.35</td>\n",
       "      <td>165.53</td>\n",
       "      <td>176.70</td>\n",
       "      <td>166.13</td>\n",
       "    </tr>\n",
       "    <tr>\n",
       "      <th>1</th>\n",
       "      <td>170.49</td>\n",
       "      <td>185.91</td>\n",
       "      <td>198.45</td>\n",
       "      <td>160.79</td>\n",
       "    </tr>\n",
       "    <tr>\n",
       "      <th>2</th>\n",
       "      <td>192.77</td>\n",
       "      <td>194.92</td>\n",
       "      <td>201.23</td>\n",
       "      <td>185.18</td>\n",
       "    </tr>\n",
       "    <tr>\n",
       "      <th>3</th>\n",
       "      <td>177.33</td>\n",
       "      <td>183.00</td>\n",
       "      <td>199.61</td>\n",
       "      <td>176.42</td>\n",
       "    </tr>\n",
       "    <tr>\n",
       "      <th>4</th>\n",
       "      <td>193.41</td>\n",
       "      <td>169.57</td>\n",
       "      <td>204.63</td>\n",
       "      <td>152.60</td>\n",
       "    </tr>\n",
       "    <tr>\n",
       "      <th>...</th>\n",
       "      <td>...</td>\n",
       "      <td>...</td>\n",
       "      <td>...</td>\n",
       "      <td>...</td>\n",
       "    </tr>\n",
       "    <tr>\n",
       "      <th>115</th>\n",
       "      <td>178.49</td>\n",
       "      <td>170.66</td>\n",
       "      <td>193.80</td>\n",
       "      <td>172.68</td>\n",
       "    </tr>\n",
       "    <tr>\n",
       "      <th>116</th>\n",
       "      <td>176.08</td>\n",
       "      <td>183.98</td>\n",
       "      <td>215.25</td>\n",
       "      <td>177.64</td>\n",
       "    </tr>\n",
       "    <tr>\n",
       "      <th>117</th>\n",
       "      <td>202.48</td>\n",
       "      <td>174.54</td>\n",
       "      <td>203.99</td>\n",
       "      <td>170.27</td>\n",
       "    </tr>\n",
       "    <tr>\n",
       "      <th>118</th>\n",
       "      <td>182.40</td>\n",
       "      <td>197.18</td>\n",
       "      <td>194.52</td>\n",
       "      <td>150.87</td>\n",
       "    </tr>\n",
       "    <tr>\n",
       "      <th>119</th>\n",
       "      <td>182.09</td>\n",
       "      <td>215.17</td>\n",
       "      <td>221.49</td>\n",
       "      <td>162.21</td>\n",
       "    </tr>\n",
       "  </tbody>\n",
       "</table>\n",
       "<p>120 rows × 4 columns</p>\n",
       "</div>"
      ],
      "text/plain": [
       "     Laboratory 1  Laboratory 2  Laboratory 3  Laboratory 4\n",
       "0          185.35        165.53        176.70        166.13\n",
       "1          170.49        185.91        198.45        160.79\n",
       "2          192.77        194.92        201.23        185.18\n",
       "3          177.33        183.00        199.61        176.42\n",
       "4          193.41        169.57        204.63        152.60\n",
       "..            ...           ...           ...           ...\n",
       "115        178.49        170.66        193.80        172.68\n",
       "116        176.08        183.98        215.25        177.64\n",
       "117        202.48        174.54        203.99        170.27\n",
       "118        182.40        197.18        194.52        150.87\n",
       "119        182.09        215.17        221.49        162.21\n",
       "\n",
       "[120 rows x 4 columns]"
      ]
     },
     "execution_count": 10,
     "metadata": {},
     "output_type": "execute_result"
    }
   ],
   "source": [
    "df2"
   ]
  },
  {
   "cell_type": "markdown",
   "id": "08edebf5",
   "metadata": {},
   "source": [
    "+ We'll perform a one-way analysis of variance (ANOVA) test to compare the means of multiple groups. after checking the validity of our assumptions \n",
    "+ Assumptions for each set of Data:\n",
    "\n",
    "    - 1. Normality: We Check if TAT data for each laboratory is approximately normally distributed using the Shapiro-Wilk test.\n",
    "    - 2. Homogeneity of Variances: We Check if variances of TAT are approximately equal among the laboratories using Levene's test."
   ]
  },
  {
   "cell_type": "code",
   "execution_count": 11,
   "id": "0ddd41ce",
   "metadata": {},
   "outputs": [
    {
     "name": "stdout",
     "output_type": "stream",
     "text": [
      "Laboratory 1\n",
      "stat = 0.975, p = 0.872\n",
      "Laboratory 2\n",
      "stat = 0.986, p = 0.937\n",
      "Laboratory 3\n",
      "stat = 0.822, p = 0.148\n",
      "Laboratory 4\n",
      "stat = 0.959, p = 0.771\n"
     ]
    }
   ],
   "source": [
    "labs = list(df2.columns)\n",
    "for i in range(1,5):\n",
    "    stat,p = shapiro(df2.iloc[i])\n",
    "    print(labs[i-1])\n",
    "    print(\"stat = %.3f, p = %.3f\"%(stat,p))"
   ]
  },
  {
   "cell_type": "markdown",
   "id": "5b3ab83d",
   "metadata": {},
   "source": [
    "+ For all laboratories, the p-values are greater than 0.05, indicating that we do not have enough evidence to reject the null hypothesis of normality. Therefore, we can proceed with the assumption of normality for the data. Let's now check the homogeneity of variances using Levene's test. "
   ]
  },
  {
   "cell_type": "code",
   "execution_count": 12,
   "id": "17288e7d",
   "metadata": {},
   "outputs": [
    {
     "name": "stdout",
     "output_type": "stream",
     "text": [
      "stat = 2.600, p = 0.052\n"
     ]
    }
   ],
   "source": [
    "stat,p = stats.levene(df2['Laboratory 1'],df2['Laboratory 2'],df2['Laboratory 3'],df2['Laboratory 4'])\n",
    "print(\"stat = %.3f, p = %.3f\"%(stat,p))"
   ]
  },
  {
   "cell_type": "markdown",
   "id": "d93d43c7",
   "metadata": {},
   "source": [
    "+ The Levene's test for homogeneity of variances gives a p-value of 0.052, which is very close to the typical significance level of 0.05. While it's not significantly less than 0.05, it's still worth noting that the assumption of equal variances might be borderline.\n",
    "\n",
    "    + Given this result, We continue with one-way ANOVA test, but it's essential to interpret the results cautiously, considering the p-value from Levene's test."
   ]
  },
  {
   "cell_type": "code",
   "execution_count": 13,
   "id": "1c4dc5c1",
   "metadata": {},
   "outputs": [
    {
     "name": "stdout",
     "output_type": "stream",
     "text": [
      "stat = 118.704, p = 0.000\n"
     ]
    }
   ],
   "source": [
    "# anova_result\n",
    "stat,p = stats.f_oneway(df2['Laboratory 1'],df2['Laboratory 2'],df2['Laboratory 3'],df2['Laboratory 4'])\n",
    "print(\"stat = %.3f, p = %.3f\"%(stat,p))"
   ]
  },
  {
   "cell_type": "markdown",
   "id": "cb35b56d",
   "metadata": {},
   "source": [
    "+ The one-way ANOVA test indicates a significant difference in average Turn Around Time (TAT) among the laboratories. The p-value is extremely low (p = 0.000), which is less than the typical significance level of 0.05. Therefore, we have enough evidence to reject the null hypothesis of equal means, suggesting that at least one laboratory has a different average TAT compared to the others."
   ]
  },
  {
   "cell_type": "markdown",
   "id": "a5e39f90",
   "metadata": {},
   "source": [
    "## Q3. "
   ]
  },
  {
   "cell_type": "code",
   "execution_count": 14,
   "id": "8dd389aa",
   "metadata": {},
   "outputs": [],
   "source": [
    "buyers = pd.read_csv(\"BuyerRatio.csv\",index_col='Observed Values')"
   ]
  },
  {
   "cell_type": "code",
   "execution_count": 15,
   "id": "429f25c4",
   "metadata": {},
   "outputs": [
    {
     "data": {
      "text/html": [
       "<div>\n",
       "<style scoped>\n",
       "    .dataframe tbody tr th:only-of-type {\n",
       "        vertical-align: middle;\n",
       "    }\n",
       "\n",
       "    .dataframe tbody tr th {\n",
       "        vertical-align: top;\n",
       "    }\n",
       "\n",
       "    .dataframe thead th {\n",
       "        text-align: right;\n",
       "    }\n",
       "</style>\n",
       "<table border=\"1\" class=\"dataframe\">\n",
       "  <thead>\n",
       "    <tr style=\"text-align: right;\">\n",
       "      <th></th>\n",
       "      <th>East</th>\n",
       "      <th>West</th>\n",
       "      <th>North</th>\n",
       "      <th>South</th>\n",
       "    </tr>\n",
       "    <tr>\n",
       "      <th>Observed Values</th>\n",
       "      <th></th>\n",
       "      <th></th>\n",
       "      <th></th>\n",
       "      <th></th>\n",
       "    </tr>\n",
       "  </thead>\n",
       "  <tbody>\n",
       "    <tr>\n",
       "      <th>Males</th>\n",
       "      <td>50</td>\n",
       "      <td>142</td>\n",
       "      <td>131</td>\n",
       "      <td>70</td>\n",
       "    </tr>\n",
       "    <tr>\n",
       "      <th>Females</th>\n",
       "      <td>435</td>\n",
       "      <td>1523</td>\n",
       "      <td>1356</td>\n",
       "      <td>750</td>\n",
       "    </tr>\n",
       "  </tbody>\n",
       "</table>\n",
       "</div>"
      ],
      "text/plain": [
       "                 East  West  North  South\n",
       "Observed Values                          \n",
       "Males              50   142    131     70\n",
       "Females           435  1523   1356    750"
      ]
     },
     "execution_count": 15,
     "metadata": {},
     "output_type": "execute_result"
    }
   ],
   "source": [
    "buyers"
   ]
  },
  {
   "cell_type": "markdown",
   "id": "5a5d3ef7",
   "metadata": {},
   "source": [
    "+ Null Hypothesis :- All Proportions are Equal\n",
    "+ Alternate Hypothesis :- Not all Proportions are equal"
   ]
  },
  {
   "cell_type": "code",
   "execution_count": 16,
   "id": "b532c03b",
   "metadata": {},
   "outputs": [],
   "source": [
    "from scipy.stats import chi2_contingency\n",
    "# Perform Chi2 test\n",
    "chi2,p_value,_,_ = chi2_contingency(buyers)"
   ]
  },
  {
   "cell_type": "code",
   "execution_count": 17,
   "id": "5ce46985",
   "metadata": {},
   "outputs": [
    {
     "name": "stdout",
     "output_type": "stream",
     "text": [
      "Chi-square value: 1.595945538661058\n",
      "P-value: 0.6603094907091882\n"
     ]
    }
   ],
   "source": [
    "# Print the results\n",
    "print(f\"Chi-square value: {chi2}\")\n",
    "print(f\"P-value: {p_value}\")"
   ]
  },
  {
   "cell_type": "markdown",
   "id": "26fb01a7",
   "metadata": {},
   "source": [
    "+ The Chi-square test of independence yields a Chi-square value of approximately 1.596 and a p-value of 0.660.\n",
    "\n",
    "+ Since the p-value is greater than the common significance level of 0.05, we do not have enough evidence to reject the null hypothesis. This suggests that there is no significant association between gender and region, and the male-female buyer ratios are similar across the four regions"
   ]
  },
  {
   "cell_type": "markdown",
   "id": "7365f75c",
   "metadata": {},
   "source": [
    "## Q.4"
   ]
  },
  {
   "cell_type": "code",
   "execution_count": 18,
   "id": "8ba4493b",
   "metadata": {},
   "outputs": [],
   "source": [
    "orig_order_forms = pd.read_csv('Costomer+OrderForm.csv')"
   ]
  },
  {
   "cell_type": "code",
   "execution_count": 19,
   "id": "2389a044",
   "metadata": {},
   "outputs": [],
   "source": [
    "order_forms = orig_order_forms.copy()"
   ]
  },
  {
   "cell_type": "code",
   "execution_count": 20,
   "id": "152b950c",
   "metadata": {},
   "outputs": [],
   "source": [
    "from sklearn.preprocessing import LabelEncoder"
   ]
  },
  {
   "cell_type": "code",
   "execution_count": 21,
   "id": "e0b5d15d",
   "metadata": {},
   "outputs": [
    {
     "data": {
      "text/html": [
       "<div>\n",
       "<style scoped>\n",
       "    .dataframe tbody tr th:only-of-type {\n",
       "        vertical-align: middle;\n",
       "    }\n",
       "\n",
       "    .dataframe tbody tr th {\n",
       "        vertical-align: top;\n",
       "    }\n",
       "\n",
       "    .dataframe thead th {\n",
       "        text-align: right;\n",
       "    }\n",
       "</style>\n",
       "<table border=\"1\" class=\"dataframe\">\n",
       "  <thead>\n",
       "    <tr style=\"text-align: right;\">\n",
       "      <th></th>\n",
       "      <th>Phillippines</th>\n",
       "      <th>Indonesia</th>\n",
       "      <th>Malta</th>\n",
       "      <th>India</th>\n",
       "    </tr>\n",
       "  </thead>\n",
       "  <tbody>\n",
       "    <tr>\n",
       "      <th>0</th>\n",
       "      <td>Error Free</td>\n",
       "      <td>Error Free</td>\n",
       "      <td>Defective</td>\n",
       "      <td>Error Free</td>\n",
       "    </tr>\n",
       "    <tr>\n",
       "      <th>1</th>\n",
       "      <td>Error Free</td>\n",
       "      <td>Error Free</td>\n",
       "      <td>Error Free</td>\n",
       "      <td>Defective</td>\n",
       "    </tr>\n",
       "    <tr>\n",
       "      <th>2</th>\n",
       "      <td>Error Free</td>\n",
       "      <td>Defective</td>\n",
       "      <td>Defective</td>\n",
       "      <td>Error Free</td>\n",
       "    </tr>\n",
       "    <tr>\n",
       "      <th>3</th>\n",
       "      <td>Error Free</td>\n",
       "      <td>Error Free</td>\n",
       "      <td>Error Free</td>\n",
       "      <td>Error Free</td>\n",
       "    </tr>\n",
       "    <tr>\n",
       "      <th>4</th>\n",
       "      <td>Error Free</td>\n",
       "      <td>Error Free</td>\n",
       "      <td>Defective</td>\n",
       "      <td>Error Free</td>\n",
       "    </tr>\n",
       "  </tbody>\n",
       "</table>\n",
       "</div>"
      ],
      "text/plain": [
       "  Phillippines   Indonesia       Malta       India\n",
       "0   Error Free  Error Free   Defective  Error Free\n",
       "1   Error Free  Error Free  Error Free   Defective\n",
       "2   Error Free   Defective   Defective  Error Free\n",
       "3   Error Free  Error Free  Error Free  Error Free\n",
       "4   Error Free  Error Free   Defective  Error Free"
      ]
     },
     "execution_count": 21,
     "metadata": {},
     "output_type": "execute_result"
    }
   ],
   "source": [
    "orig_order_forms.head()"
   ]
  },
  {
   "cell_type": "code",
   "execution_count": 22,
   "id": "cdfa6e4e",
   "metadata": {},
   "outputs": [
    {
     "data": {
      "text/html": [
       "<div>\n",
       "<style scoped>\n",
       "    .dataframe tbody tr th:only-of-type {\n",
       "        vertical-align: middle;\n",
       "    }\n",
       "\n",
       "    .dataframe tbody tr th {\n",
       "        vertical-align: top;\n",
       "    }\n",
       "\n",
       "    .dataframe thead th {\n",
       "        text-align: right;\n",
       "    }\n",
       "</style>\n",
       "<table border=\"1\" class=\"dataframe\">\n",
       "  <thead>\n",
       "    <tr style=\"text-align: right;\">\n",
       "      <th></th>\n",
       "      <th>Phillippines</th>\n",
       "      <th>Indonesia</th>\n",
       "      <th>Malta</th>\n",
       "      <th>India</th>\n",
       "    </tr>\n",
       "  </thead>\n",
       "  <tbody>\n",
       "    <tr>\n",
       "      <th>count</th>\n",
       "      <td>300</td>\n",
       "      <td>300</td>\n",
       "      <td>300</td>\n",
       "      <td>300</td>\n",
       "    </tr>\n",
       "    <tr>\n",
       "      <th>unique</th>\n",
       "      <td>2</td>\n",
       "      <td>2</td>\n",
       "      <td>2</td>\n",
       "      <td>2</td>\n",
       "    </tr>\n",
       "    <tr>\n",
       "      <th>top</th>\n",
       "      <td>Error Free</td>\n",
       "      <td>Error Free</td>\n",
       "      <td>Error Free</td>\n",
       "      <td>Error Free</td>\n",
       "    </tr>\n",
       "    <tr>\n",
       "      <th>freq</th>\n",
       "      <td>271</td>\n",
       "      <td>267</td>\n",
       "      <td>269</td>\n",
       "      <td>280</td>\n",
       "    </tr>\n",
       "  </tbody>\n",
       "</table>\n",
       "</div>"
      ],
      "text/plain": [
       "       Phillippines   Indonesia       Malta       India\n",
       "count           300         300         300         300\n",
       "unique            2           2           2           2\n",
       "top      Error Free  Error Free  Error Free  Error Free\n",
       "freq            271         267         269         280"
      ]
     },
     "execution_count": 22,
     "metadata": {},
     "output_type": "execute_result"
    }
   ],
   "source": [
    "orig_order_forms.describe()"
   ]
  },
  {
   "cell_type": "code",
   "execution_count": 23,
   "id": "f6505816",
   "metadata": {},
   "outputs": [],
   "source": [
    "lab = LabelEncoder()"
   ]
  },
  {
   "cell_type": "code",
   "execution_count": 24,
   "id": "f1117434",
   "metadata": {},
   "outputs": [],
   "source": [
    "countries = ['Phillippines','Indonesia','Malta','India']\n",
    "for country in countries:\n",
    "    order_forms[country] = lab.fit_transform(order_forms[country])"
   ]
  },
  {
   "cell_type": "markdown",
   "id": "3e103f9a",
   "metadata": {},
   "source": [
    "+ Label 0 :- Defective \n",
    "+ Label 1 :- Error Free"
   ]
  },
  {
   "cell_type": "code",
   "execution_count": 25,
   "id": "3b67ae0e",
   "metadata": {},
   "outputs": [
    {
     "data": {
      "text/html": [
       "<div>\n",
       "<style scoped>\n",
       "    .dataframe tbody tr th:only-of-type {\n",
       "        vertical-align: middle;\n",
       "    }\n",
       "\n",
       "    .dataframe tbody tr th {\n",
       "        vertical-align: top;\n",
       "    }\n",
       "\n",
       "    .dataframe thead th {\n",
       "        text-align: right;\n",
       "    }\n",
       "</style>\n",
       "<table border=\"1\" class=\"dataframe\">\n",
       "  <thead>\n",
       "    <tr style=\"text-align: right;\">\n",
       "      <th></th>\n",
       "      <th>Phillippines</th>\n",
       "      <th>Indonesia</th>\n",
       "      <th>Malta</th>\n",
       "      <th>India</th>\n",
       "    </tr>\n",
       "  </thead>\n",
       "  <tbody>\n",
       "    <tr>\n",
       "      <th>0</th>\n",
       "      <td>1</td>\n",
       "      <td>1</td>\n",
       "      <td>0</td>\n",
       "      <td>1</td>\n",
       "    </tr>\n",
       "    <tr>\n",
       "      <th>1</th>\n",
       "      <td>1</td>\n",
       "      <td>1</td>\n",
       "      <td>1</td>\n",
       "      <td>0</td>\n",
       "    </tr>\n",
       "    <tr>\n",
       "      <th>2</th>\n",
       "      <td>1</td>\n",
       "      <td>0</td>\n",
       "      <td>0</td>\n",
       "      <td>1</td>\n",
       "    </tr>\n",
       "    <tr>\n",
       "      <th>3</th>\n",
       "      <td>1</td>\n",
       "      <td>1</td>\n",
       "      <td>1</td>\n",
       "      <td>1</td>\n",
       "    </tr>\n",
       "    <tr>\n",
       "      <th>4</th>\n",
       "      <td>1</td>\n",
       "      <td>1</td>\n",
       "      <td>0</td>\n",
       "      <td>1</td>\n",
       "    </tr>\n",
       "  </tbody>\n",
       "</table>\n",
       "</div>"
      ],
      "text/plain": [
       "   Phillippines  Indonesia  Malta  India\n",
       "0             1          1      0      1\n",
       "1             1          1      1      0\n",
       "2             1          0      0      1\n",
       "3             1          1      1      1\n",
       "4             1          1      0      1"
      ]
     },
     "execution_count": 25,
     "metadata": {},
     "output_type": "execute_result"
    }
   ],
   "source": [
    "order_forms.head()"
   ]
  },
  {
   "cell_type": "code",
   "execution_count": 26,
   "id": "6bdee0ca",
   "metadata": {},
   "outputs": [
    {
     "data": {
      "text/html": [
       "<div>\n",
       "<style scoped>\n",
       "    .dataframe tbody tr th:only-of-type {\n",
       "        vertical-align: middle;\n",
       "    }\n",
       "\n",
       "    .dataframe tbody tr th {\n",
       "        vertical-align: top;\n",
       "    }\n",
       "\n",
       "    .dataframe thead th {\n",
       "        text-align: right;\n",
       "    }\n",
       "</style>\n",
       "<table border=\"1\" class=\"dataframe\">\n",
       "  <thead>\n",
       "    <tr style=\"text-align: right;\">\n",
       "      <th></th>\n",
       "      <th>Defective</th>\n",
       "      <th>Error Free</th>\n",
       "    </tr>\n",
       "  </thead>\n",
       "  <tbody>\n",
       "    <tr>\n",
       "      <th>Phillippines</th>\n",
       "      <td>29</td>\n",
       "      <td>271</td>\n",
       "    </tr>\n",
       "    <tr>\n",
       "      <th>Indonesia</th>\n",
       "      <td>33</td>\n",
       "      <td>267</td>\n",
       "    </tr>\n",
       "    <tr>\n",
       "      <th>Malta</th>\n",
       "      <td>31</td>\n",
       "      <td>269</td>\n",
       "    </tr>\n",
       "    <tr>\n",
       "      <th>India</th>\n",
       "      <td>20</td>\n",
       "      <td>280</td>\n",
       "    </tr>\n",
       "  </tbody>\n",
       "</table>\n",
       "</div>"
      ],
      "text/plain": [
       "              Defective  Error Free\n",
       "Phillippines         29         271\n",
       "Indonesia            33         267\n",
       "Malta                31         269\n",
       "India                20         280"
      ]
     },
     "execution_count": 26,
     "metadata": {},
     "output_type": "execute_result"
    }
   ],
   "source": [
    "countries_order = pd.DataFrame(\n",
    "    [\n",
    "    [300-sum(order_forms['Phillippines']),sum(order_forms['Phillippines'])],\n",
    "    [300-sum(order_forms['Indonesia']),sum(order_forms['Indonesia'])],\n",
    "    [300-sum(order_forms['Malta']),sum(order_forms['Malta'])],\n",
    "    [300-sum(order_forms['India']),sum(order_forms['India'])]\n",
    "    ],index =countries ,columns=['Defective','Error Free'])\n",
    "countries_order"
   ]
  },
  {
   "cell_type": "markdown",
   "id": "6e3f0ad9",
   "metadata": {},
   "source": [
    "#### Null Hypothesis (H0): There is no significant difference in defective percentages among the centers.\n",
    "#### Alternative Hypothesis (H1): There is a significant difference in defective percentages among the centers."
   ]
  },
  {
   "cell_type": "code",
   "execution_count": 27,
   "id": "46a3bceb",
   "metadata": {
    "scrolled": true
   },
   "outputs": [
    {
     "name": "stdout",
     "output_type": "stream",
     "text": [
      "Chi-square Statistic: 3.8589606858203545\n",
      "P-value: 0.2771020991233144\n",
      "Degrees of Freedom: 3\n",
      "Expected Frequencies:\n",
      "[[ 28.25 271.75]\n",
      " [ 28.25 271.75]\n",
      " [ 28.25 271.75]\n",
      " [ 28.25 271.75]]\n"
     ]
    }
   ],
   "source": [
    "# Perform chi-square test\n",
    "chi2_stat, p_val, dof, expected = chi2_contingency(countries_order)\n",
    "\n",
    "# Print the results\n",
    "print(f\"Chi-square Statistic: {chi2_stat}\")\n",
    "print(f\"P-value: {p_val}\")\n",
    "print(f\"Degrees of Freedom: {dof}\")\n",
    "print(\"Expected Frequencies:\")\n",
    "print(expected)"
   ]
  },
  {
   "cell_type": "markdown",
   "id": "115fb36a",
   "metadata": {},
   "source": [
    "+ Since the p-value (0.2771) is greater than the significance level of 0.05 (5%), we fail to reject the null hypothesis. There is not enough evidence to conclude that the defective percentages vary significantly among the centers."
   ]
  }
 ],
 "metadata": {
  "kernelspec": {
   "display_name": "Python 3 (ipykernel)",
   "language": "python",
   "name": "python3"
  },
  "language_info": {
   "codemirror_mode": {
    "name": "ipython",
    "version": 3
   },
   "file_extension": ".py",
   "mimetype": "text/x-python",
   "name": "python",
   "nbconvert_exporter": "python",
   "pygments_lexer": "ipython3",
   "version": "3.11.3"
  }
 },
 "nbformat": 4,
 "nbformat_minor": 5
}
