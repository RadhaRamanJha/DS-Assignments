{
 "cells": [
  {
   "cell_type": "markdown",
   "id": "f3c35970",
   "metadata": {},
   "source": [
    "## Set+1_Descriptive+statistics+Probability+(2)"
   ]
  },
  {
   "cell_type": "markdown",
   "id": "d0591f77",
   "metadata": {},
   "source": [
    "+ Q 1)"
   ]
  },
  {
   "cell_type": "code",
   "execution_count": 1,
   "id": "e6ef6804",
   "metadata": {},
   "outputs": [],
   "source": [
    "import pandas as pd\n",
    "import matplotlib.pyplot as plt\n",
    "import numpy as np"
   ]
  },
  {
   "cell_type": "code",
   "execution_count": 2,
   "id": "3436fac8",
   "metadata": {},
   "outputs": [
    {
     "data": {
      "image/png": "[encoded data removed]",
      "text/plain": [
       "<Figure size 640x480 with 1 Axes>"
      ]
     },
     "metadata": {},
     "output_type": "display_data"
    }
   ],
   "source": [
    "company_name = ['Allied Signal','Bankers Trust','General Mills',\n",
    "                'ITT Industries','J.P.Morgan & Co.','Lehman Brothers',\n",
    "                'Marriott', 'MCI','Merrill Lynch','Microsoft','Morgan Stanley',\n",
    "                'Sun Microsystems','Travelers','US Airways','Warner-Lambert']\n",
    "measuX_pct = [24.23,25.53,25.41,\n",
    "                    24.14,29.62,28.25,\n",
    "                    25.81,24.39,40.26,\n",
    "                    32.95,91.36,25.99,\n",
    "                    39.42,26.71,35.00]\n",
    "box = plt.boxplot(measuX_pct)\n",
    "plt.show()"
   ]
  },
  {
   "cell_type": "markdown",
   "id": "53b38596",
   "metadata": {},
   "source": [
    "+ outlier for X is 91.36 for Morgan Stanley"
   ]
  },
  {
   "cell_type": "code",
   "execution_count": 3,
   "id": "6db5731c",
   "metadata": {},
   "outputs": [
    {
     "name": "stdout",
     "output_type": "stream",
     "text": [
      "The μ value for X is 33.27\n"
     ]
    }
   ],
   "source": [
    "print(f\"The μ value for X is {round(np.mean(measuX_pct),2)}\")"
   ]
  },
  {
   "cell_type": "code",
   "execution_count": 4,
   "id": "02b5863e",
   "metadata": {},
   "outputs": [
    {
     "name": "stdout",
     "output_type": "stream",
     "text": [
      "The variance value for X is 268.0\n"
     ]
    }
   ],
   "source": [
    "print(f\"The variance value for X is {round(np.var(measuX_pct),2)}\")"
   ]
  },
  {
   "cell_type": "code",
   "execution_count": 5,
   "id": "64ad2f96",
   "metadata": {},
   "outputs": [
    {
     "name": "stdout",
     "output_type": "stream",
     "text": [
      "The σ value for X is 16.37\n"
     ]
    }
   ],
   "source": [
    "print(f\"The σ value for X is {round(np.std(measuX_pct),2)}\")"
   ]
  },
  {
   "cell_type": "markdown",
   "id": "0b4a4d14",
   "metadata": {},
   "source": [
    "## Set+2_Normal+Distribution+Functions+of+random+variables"
   ]
  },
  {
   "cell_type": "markdown",
   "id": "bc4c2586",
   "metadata": {},
   "source": [
    "+ Q1"
   ]
  },
  {
   "cell_type": "code",
   "execution_count": 6,
   "id": "11bd626f",
   "metadata": {},
   "outputs": [],
   "source": [
    "from scipy.stats import norm"
   ]
  },
  {
   "cell_type": "code",
   "execution_count": 7,
   "id": "a2d43b42",
   "metadata": {},
   "outputs": [
    {
     "name": "stdout",
     "output_type": "stream",
     "text": [
      "The Probability that the service manager cannot meet his commitment is 26.599%\n"
     ]
    }
   ],
   "source": [
    "avg = 45 # mean service time\n",
    "std = 8 # standard deviation in minytes\n",
    "plan_time = 50 # Taking into account the start delay of 10 mins\n",
    "z_score = (plan_time-avg)/std\n",
    "proba = 1-norm.cdf(z_score)\n",
    "print(f\"The Probability that the service manager cannot meet his commitment is {round(proba,5)*100}%\")"
   ]
  },
  {
   "cell_type": "markdown",
   "id": "6deaa0ae",
   "metadata": {},
   "source": [
    "+ Q2 A"
   ]
  },
  {
   "cell_type": "code",
   "execution_count": 8,
   "id": "67c9b1a6",
   "metadata": {},
   "outputs": [
    {
     "name": "stdout",
     "output_type": "stream",
     "text": [
      "\n",
      "         Statement that more employees at the processing center are older than 44 than between 38 and 44 is False.\n",
      "         Because probability of employee having age between 38 and 44 is 34.13 %\n",
      "         and probability of employee having age more than 44 is 15.87 %\n",
      "         \n"
     ]
    }
   ],
   "source": [
    "emp_num = 400 # Total number of employees\n",
    "mean_age = 38 # Given mean age of employees\n",
    "std_dev = 6   # Given std of age of employees\n",
    "z_38 = (38-mean_age)/std_dev # z-value for age = 38\n",
    "z_44= (44-mean_age)/std_dev  # z-value for age = 44\n",
    "prob1 = 1-norm.cdf(z_44) # prob dist curve area to right of age 44 (i.e. age > 44)\n",
    "prob2 = norm.cdf(z_44)-norm.cdf(z_38) # prob dist curve area between age 38 and 44\n",
    "print(f'''\n",
    "         Statement that more employees at the processing center are older than 44 than between 38 and 44 is {prob1>prob2}.\n",
    "         Because probability of employee having age between 38 and 44 is {round(prob2*100,2)} %\n",
    "         and probability of employee having age more than 44 is {round(prob1*100,2)} %\n",
    "         ''')"
   ]
  },
  {
   "cell_type": "markdown",
   "id": "b07ee50e",
   "metadata": {},
   "source": [
    "+ Q2 B"
   ]
  },
  {
   "cell_type": "code",
   "execution_count": 9,
   "id": "61bbc1c9",
   "metadata": {},
   "outputs": [
    {
     "name": "stdout",
     "output_type": "stream",
     "text": [
      "The training program for employees under the age of 30\n",
      "would be expected to attract about 36 employees.\n"
     ]
    }
   ],
   "source": [
    "## number of people = emp_num * probabilty that age of employee < 30\n",
    "z_30 = (30-mean_age)/std_dev # z-value for age = 30\n",
    "print(f'''The training program for employees under the age of 30\n",
    "would be expected to attract about {round(emp_num*norm.cdf(z_30))} employees.''')"
   ]
  },
  {
   "cell_type": "markdown",
   "id": "7e371f95",
   "metadata": {},
   "source": [
    "+ Q4"
   ]
  },
  {
   "cell_type": "code",
   "execution_count": 10,
   "id": "f964ba52",
   "metadata": {},
   "outputs": [
    {
     "name": "stdout",
     "output_type": "stream",
     "text": [
      "The values a and b are: a = 48.48, b = 151.52\n"
     ]
    }
   ],
   "source": [
    "# Given values \n",
    "mean = 100\n",
    "std_dev = 20\n",
    "\n",
    "# Confidence level\n",
    "confidence_level = 0.99\n",
    "\n",
    "# Calculate the z-scores for the lower and upper bounds\n",
    "z_lower = norm.ppf((1 - confidence_level) / 2)\n",
    "z_upper = norm.ppf(1 - (1 - confidence_level) / 2)\n",
    "\n",
    "# Calculate the values a and b\n",
    "a = mean + z_lower * std_dev\n",
    "b = mean + z_upper * std_dev\n",
    "\n",
    "print(f\"The values a and b are: a = {a:.2f}, b = {b:.2f}\")"
   ]
  },
  {
   "cell_type": "markdown",
   "id": "c5c40cd0",
   "metadata": {},
   "source": [
    "+ Q5 a"
   ]
  },
  {
   "cell_type": "code",
   "execution_count": 6,
   "id": "78f435e0",
   "metadata": {},
   "outputs": [
    {
     "name": "stdout",
     "output_type": "stream",
     "text": [
      "95% Confidence Interval for Total Annual Profit: (99.01 Rs. Million, 980.99 Rs. Million)\n"
     ]
    }
   ],
   "source": [
    "import scipy.stats as stats\n",
    "\n",
    "# Given data\n",
    "mean_profit1 = 5 * 45\n",
    "variance_profit1 = 9 * (45**2)\n",
    "\n",
    "mean_profit2 = 7 * 45\n",
    "variance_profit2 = 16 * (45**2)\n",
    "\n",
    "# Total profit distribution parameters\n",
    "mean_total_profit = mean_profit1 + mean_profit2\n",
    "variance_total_profit = variance_profit1 + variance_profit2\n",
    "std_dev_total_profit = (variance_total_profit)**0.5\n",
    "\n",
    "# Confidence level\n",
    "confidence_level = 0.95\n",
    "\n",
    "# Calculate the 95% confidence interval\n",
    "margin_of_error = stats.norm.ppf((1 + confidence_level) / 2) * std_dev_total_profit\n",
    "lower_bound = mean_total_profit - margin_of_error\n",
    "upper_bound = mean_total_profit + margin_of_error\n",
    "\n",
    "# Display the results\n",
    "print(f\"95% Confidence Interval for Total Annual Profit: ({lower_bound:.2f} Rs. Million, {upper_bound:.2f} Rs. Million)\")"
   ]
  },
  {
   "cell_type": "markdown",
   "id": "1c66b43d",
   "metadata": {},
   "source": [
    "+ Q5 b"
   ]
  },
  {
   "cell_type": "code",
   "execution_count": 7,
   "id": "e683949c",
   "metadata": {},
   "outputs": [
    {
     "name": "stdout",
     "output_type": "stream",
     "text": [
      "5th Percentile of Total Annual Profit: 169.91 Rs. Million\n"
     ]
    }
   ],
   "source": [
    "# Given data\n",
    "mean_profit1 = 5 * 45\n",
    "variance_profit1 = 9 * (45**2)\n",
    "\n",
    "mean_profit2 = 7 * 45\n",
    "variance_profit2 = 16 * (45**2)\n",
    "\n",
    "# Total profit distribution parameters\n",
    "mean_total_profit = mean_profit1 + mean_profit2\n",
    "variance_total_profit = variance_profit1 + variance_profit2\n",
    "std_dev_total_profit = (variance_total_profit)**0.5\n",
    "\n",
    "# Calculate the 5th percentile using the inverse CDF (percent-point function)\n",
    "fifth_percentile = stats.norm.ppf(0.05, loc=mean_total_profit, scale=std_dev_total_profit)\n",
    "\n",
    "# Display the result\n",
    "print(f\"5th Percentile of Total Annual Profit: {fifth_percentile:.2f} Rs. Million\")\n"
   ]
  },
  {
   "cell_type": "markdown",
   "id": "07f346ca",
   "metadata": {},
   "source": [
    "## Set+3 _Topics: Confidence Intervals"
   ]
  },
  {
   "cell_type": "markdown",
   "id": "67fd204e",
   "metadata": {},
   "source": [
    "+ Q 8"
   ]
  },
  {
   "cell_type": "code",
   "execution_count": 4,
   "id": "2ae434cf",
   "metadata": {},
   "outputs": [
    {
     "name": "stdout",
     "output_type": "stream",
     "text": [
      "Minimum sample size: 601.0\n"
     ]
    }
   ],
   "source": [
    "import scipy.stats as stats\n",
    "import numpy as np\n",
    "# Function to calculate minimum sample size\n",
    "def calculate_sample_size(z_score, estimated_proportion, margin_of_error):\n",
    "    return np.ceil(((z_score**2) * estimated_proportion * (1 - estimated_proportion)) / (margin_of_error**2))\n",
    "\n",
    "confidence_level = 0.95\n",
    "margin_of_error = 0.04\n",
    "z_score = stats.norm.ppf((1 + confidence_level) / 2)  # Two-tailed\n",
    "\n",
    "estimated_proportion = 0.5  # Since we want to be conservative, assuming maximum variability\n",
    "\n",
    "sample_size = calculate_sample_size(z_score, estimated_proportion, margin_of_error)\n",
    "print(f\"Minimum sample size: {sample_size}\")"
   ]
  },
  {
   "cell_type": "markdown",
   "id": "b574f743",
   "metadata": {},
   "source": [
    "+ Q 9"
   ]
  },
  {
   "cell_type": "code",
   "execution_count": 2,
   "id": "5f9a78f0",
   "metadata": {},
   "outputs": [
    {
     "name": "stdout",
     "output_type": "stream",
     "text": [
      "9. Minimum sample size: 845\n"
     ]
    }
   ],
   "source": [
    "confidence_level_9 = 0.98\n",
    "z_score_9 = stats.norm.ppf((1 + confidence_level_9) / 2)  # Two-tailed\n",
    "\n",
    "sample_size_9 = calculate_sample_size(z_score_9, estimated_proportion_8, margin_of_error_8)\n",
    "print(f\"9. Minimum sample size: {sample_size_9}\")"
   ]
  },
  {
   "cell_type": "markdown",
   "id": "6f2dc08f",
   "metadata": {},
   "source": [
    "### Set+4 CBA: Practice Problem Set 2\n",
    "### Topics: Sampling Distributions and Central Limit Theorem\n"
   ]
  },
  {
   "cell_type": "markdown",
   "id": "5e649318",
   "metadata": {},
   "source": [
    "+ Q3"
   ]
  },
  {
   "cell_type": "code",
   "execution_count": 13,
   "id": "ccca52a0",
   "metadata": {},
   "outputs": [
    {
     "name": "stdout",
     "output_type": "stream",
     "text": [
      "Probability of investigation: 0.2113\n"
     ]
    }
   ],
   "source": [
    "from scipy.stats import norm\n",
    "\n",
    "# Given values\n",
    "population_mean = 50\n",
    "population_stddev = 40\n",
    "sample_size = 100\n",
    "sample_mean_range = (45, 55)\n",
    "\n",
    "# Calculate standard error of the mean\n",
    "se_mean = population_stddev / (sample_size ** 0.5)\n",
    "\n",
    "# Calculate z-scores for $45 and $55\n",
    "z_45 = (sample_mean_range[0] - population_mean) / se_mean\n",
    "z_55 = (sample_mean_range[1] - population_mean) / se_mean\n",
    "\n",
    "# Calculate probabilities\n",
    "prob_less_than_45 = norm.cdf(z_45)\n",
    "prob_greater_than_55 = 1 - norm.cdf(z_55)\n",
    "\n",
    "# Probability of investigation\n",
    "# Since Inspection happens only when amount of the sample is between $45 and $55\n",
    "prob_investigation = prob_less_than_45 + prob_greater_than_55\n",
    "\n",
    "print(f\"Probability of investigation: {prob_investigation:.4f}\")"
   ]
  },
  {
   "cell_type": "markdown",
   "id": "a047f6e5",
   "metadata": {},
   "source": [
    "+ Q4"
   ]
  },
  {
   "cell_type": "code",
   "execution_count": 14,
   "id": "7e4242ca",
   "metadata": {},
   "outputs": [
    {
     "name": "stdout",
     "output_type": "stream",
     "text": [
      "Minimum sample size: 245.85\n"
     ]
    }
   ],
   "source": [
    "from scipy.stats import norm\n",
    "\n",
    "# Given values\n",
    "alpha_over_2 = 0.025\n",
    "critical_z = norm.ppf(1 - alpha_over_2)\n",
    "population_mean = 50\n",
    "population_stddev = 40\n",
    "threshold_value = 55\n",
    "\n",
    "# Calculate minimum sample size\n",
    "min_sample_size = ((critical_z * population_stddev) / (threshold_value - population_mean)) ** 2\n",
    "\n",
    "print(f\"Minimum sample size: {min_sample_size:.2f}\")"
   ]
  },
  {
   "cell_type": "code",
   "execution_count": 15,
   "id": "bcf7ffb4",
   "metadata": {},
   "outputs": [
    {
     "name": "stdout",
     "output_type": "stream",
     "text": [
      "Option 250 satisfies the condition.\n"
     ]
    }
   ],
   "source": [
    "# Given choices\n",
    "options = [144, 150, 196, 250]\n",
    "\n",
    "# Check each option\n",
    "for sample_size in options:\n",
    "    if sample_size >= min_sample_size:\n",
    "        print(f\"Option {sample_size} satisfies the condition.\")\n"
   ]
  },
  {
   "cell_type": "markdown",
   "id": "46968018",
   "metadata": {},
   "source": [
    "+ Q5"
   ]
  },
  {
   "cell_type": "code",
   "execution_count": 16,
   "id": "5b1caa58",
   "metadata": {},
   "outputs": [
    {
     "name": "stdout",
     "output_type": "stream",
     "text": [
      "A. The standard deviation within any sample: 108.00\n",
      "B. The standard deviation of the mean across several samples: 21.91\n",
      "D. The average of the mean across several samples: 719.94\n",
      "E. The standard deviation of the mean across several samples: 21.80\n"
     ]
    }
   ],
   "source": [
    "import numpy as np\n",
    "\n",
    "# Given values\n",
    "population_mean = 720\n",
    "population_stddev = 120\n",
    "sample_size = 30  # Assuming a moderate sample size\n",
    "\n",
    "# Generate a random sample\n",
    "np.random.seed(42)  # for reproducibility\n",
    "sample = np.random.normal(population_mean, population_stddev, sample_size)\n",
    "\n",
    "# Calculate standard deviation within the sample\n",
    "std_dev_within_sample = np.std(sample, ddof=1)\n",
    "\n",
    "# Calculate standard deviation of the sample means\n",
    "std_dev_sample_means = population_stddev / (sample_size ** 0.5)\n",
    "\n",
    "# Print the results\n",
    "print(f\"A. The standard deviation within any sample: {std_dev_within_sample:.2f}\")\n",
    "print(f\"B. The standard deviation of the mean across several samples: {std_dev_sample_means:.2f}\")\n",
    "\n",
    "# Generate multiple samples\n",
    "num_samples = 1000\n",
    "all_sample_means = np.mean(np.random.normal(population_mean, population_stddev, (num_samples, sample_size)), axis=1)\n",
    "\n",
    "# Calculate the average of the sample means\n",
    "average_of_sample_means = np.mean(all_sample_means)\n",
    "\n",
    "# Calculate the standard deviation of the sample means\n",
    "std_dev_across_samples = np.std(all_sample_means, ddof=1)\n",
    "\n",
    "# Print the results\n",
    "print(f\"D. The average of the mean across several samples: {average_of_sample_means:.2f}\")\n",
    "print(f\"E. The standard deviation of the mean across several samples: {std_dev_across_samples:.2f}\")\n"
   ]
  }
 ],
 "metadata": {
  "kernelspec": {
   "display_name": "Python 3 (ipykernel)",
   "language": "python",
   "name": "python3"
  },
  "language_info": {
   "codemirror_mode": {
    "name": "ipython",
    "version": 3
   },
   "file_extension": ".py",
   "mimetype": "text/x-python",
   "name": "python",
   "nbconvert_exporter": "python",
   "pygments_lexer": "ipython3",
   "version": "3.11.3"
  }
 },
 "nbformat": 4,
 "nbformat_minor": 5
}
